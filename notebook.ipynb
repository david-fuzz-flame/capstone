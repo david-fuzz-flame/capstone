{
 "cells": [
  {
   "cell_type": "markdown",
   "id": "b5bc06b8",
   "metadata": {},
   "source": [
    "**Name**: Akshay Reddy Golamari <br>\n",
    "**Student ID**: 20012951"
   ]
  },
  {
   "cell_type": "code",
   "execution_count": 101,
   "id": "ca5ef124-0dd6-4e08-9fe0-3ea507184fa2",
   "metadata": {},
   "outputs": [],
   "source": [
    "import pandas as pd\n",
    "import numpy as np\n",
    "\n",
    "from matplotlib import pyplot as plt\n",
    "import seaborn as sns\n",
    "\n",
    "from sklearn.preprocessing import StandardScaler, MinMaxScaler, LabelEncoder, OneHotEncoder\n",
    "from sklearn.impute import KNNImputer\n",
    "\n",
    "from scipy import stats\n",
    "from sklearn.utils import resample\n",
    "from sklearn.model_selection import train_test_split\n",
    "from sklearn.ensemble import RandomForestClassifier\n",
    "from sklearn.model_selection import StratifiedKFold\n",
    "from sklearn.linear_model import LogisticRegression\n",
    "from xgboost import XGBClassifier\n",
    "\n",
    "from sklearn.metrics import accuracy_score, classification_report, roc_curve, plot_roc_curve, confusion_matrix\n",
    "from sklearn.naive_bayes import GaussianNB"
   ]
  },
  {
   "cell_type": "code",
   "execution_count": 104,
   "id": "19750eda",
   "metadata": {},
   "outputs": [
    {
     "data": {
      "text/html": [
       "<details>\n",
       "<summary>Click to view session information</summary>\n",
       "<pre>\n",
       "-----\n",
       "matplotlib          3.5.2\n",
       "numpy               1.21.5\n",
       "pandas              1.4.4\n",
       "scipy               1.9.1\n",
       "seaborn             0.11.2\n",
       "session_info        1.0.0\n",
       "sklearn             1.1.3\n",
       "xgboost             1.7.1\n",
       "-----\n",
       "</pre>\n",
       "<details>\n",
       "<summary>Click to view modules imported as dependencies</summary>\n",
       "<pre>\n",
       "PIL                         9.2.0\n",
       "backcall                    0.2.0\n",
       "beta_ufunc                  NA\n",
       "binom_ufunc                 NA\n",
       "bottleneck                  1.3.5\n",
       "cffi                        1.15.1\n",
       "colorama                    0.4.5\n",
       "cycler                      0.10.0\n",
       "cython_runtime              NA\n",
       "dateutil                    2.8.2\n",
       "debugpy                     1.5.1\n",
       "decorator                   5.1.1\n",
       "defusedxml                  0.7.1\n",
       "entrypoints                 0.4\n",
       "hypergeom_ufunc             NA\n",
       "importlib_metadata          NA\n",
       "ipykernel                   6.15.2\n",
       "ipython_genutils            0.2.0\n",
       "ipywidgets                  7.6.5\n",
       "jedi                        0.18.1\n",
       "jinja2                      2.11.3\n",
       "joblib                      1.1.0\n",
       "jupyter_server              1.18.1\n",
       "kiwisolver                  1.4.2\n",
       "lz4                         3.1.3\n",
       "markupsafe                  2.0.1\n",
       "matplotlib_inline           0.1.6\n",
       "mkl                         2.4.0\n",
       "mpl_toolkits                NA\n",
       "nbinom_ufunc                NA\n",
       "ncf_ufunc                   NA\n",
       "nt                          NA\n",
       "ntsecuritycon               NA\n",
       "numexpr                     2.8.3\n",
       "numpydoc                    1.4.0\n",
       "packaging                   21.3\n",
       "parso                       0.8.3\n",
       "pickleshare                 0.7.5\n",
       "pkg_resources               NA\n",
       "prompt_toolkit              3.0.20\n",
       "psutil                      5.9.0\n",
       "pydev_ipython               NA\n",
       "pydevconsole                NA\n",
       "pydevd                      2.6.0\n",
       "pydevd_concurrency_analyser NA\n",
       "pydevd_file_utils           NA\n",
       "pydevd_plugins              NA\n",
       "pydevd_tracing              NA\n",
       "pygments                    2.11.2\n",
       "pyparsing                   3.0.9\n",
       "pythoncom                   NA\n",
       "pytz                        2022.1\n",
       "pywintypes                  NA\n",
       "setuptools                  63.4.1\n",
       "six                         1.16.0\n",
       "sphinx                      5.0.2\n",
       "sphinxcontrib               NA\n",
       "statsmodels                 0.13.2\n",
       "storemagic                  NA\n",
       "threadpoolctl               2.2.0\n",
       "tornado                     6.1\n",
       "traitlets                   5.1.1\n",
       "typing_extensions           NA\n",
       "wcwidth                     0.2.5\n",
       "win32api                    NA\n",
       "win32com                    NA\n",
       "win32security               NA\n",
       "zipp                        NA\n",
       "zmq                         23.2.0\n",
       "zope                        NA\n",
       "</pre>\n",
       "</details> <!-- seems like this ends pre, so might as well be explicit -->\n",
       "<pre>\n",
       "-----\n",
       "IPython             7.31.1\n",
       "jupyter_client      7.3.4\n",
       "jupyter_core        4.11.1\n",
       "jupyterlab          3.4.4\n",
       "notebook            6.4.12\n",
       "-----\n",
       "Python 3.9.13 (main, Aug 25 2022, 23:51:50) [MSC v.1916 64 bit (AMD64)]\n",
       "Windows-10-10.0.22621-SP0\n",
       "-----\n",
       "Session information updated at 2022-12-05 11:50\n",
       "</pre>\n",
       "</details>"
      ],
      "text/plain": [
       "<IPython.core.display.HTML object>"
      ]
     },
     "execution_count": 104,
     "metadata": {},
     "output_type": "execute_result"
    }
   ],
   "source": [
    "# !pip install session-info\n",
    "import session_info\n",
    "session_info.show()"
   ]
  },
  {
   "cell_type": "code",
   "execution_count": 14,
   "id": "979c5795-821e-40f6-ad33-a5cae21bf7f1",
   "metadata": {},
   "outputs": [],
   "source": [
    "df = pd.read_csv(\"loan data.csv\")\n",
    "# changing the columns to lower case for ease of use\n",
    "df.columns = df.columns.str.lower()\n",
    "df_work = df.copy()"
   ]
  },
  {
   "cell_type": "markdown",
   "id": "cbd8305b-2581-4f9c-a26a-0817aab479ee",
   "metadata": {},
   "source": [
    "## Reading the samples of the data"
   ]
  },
  {
   "cell_type": "code",
   "execution_count": 15,
   "id": "8f50fb33-8276-4ea9-ac5a-0a536901e50a",
   "metadata": {},
   "outputs": [
    {
     "data": {
      "text/html": [
       "<div>\n",
       "<style scoped>\n",
       "    .dataframe tbody tr th:only-of-type {\n",
       "        vertical-align: middle;\n",
       "    }\n",
       "\n",
       "    .dataframe tbody tr th {\n",
       "        vertical-align: top;\n",
       "    }\n",
       "\n",
       "    .dataframe thead th {\n",
       "        text-align: right;\n",
       "    }\n",
       "</style>\n",
       "<table border=\"1\" class=\"dataframe\">\n",
       "  <thead>\n",
       "    <tr style=\"text-align: right;\">\n",
       "      <th></th>\n",
       "      <th>loan_id</th>\n",
       "      <th>gender</th>\n",
       "      <th>married</th>\n",
       "      <th>dependents</th>\n",
       "      <th>education</th>\n",
       "      <th>self_employed</th>\n",
       "      <th>applicantincome</th>\n",
       "      <th>coapplicantincome</th>\n",
       "      <th>loanamount</th>\n",
       "      <th>loan_amount_term</th>\n",
       "      <th>credit_history</th>\n",
       "      <th>property_area</th>\n",
       "      <th>loan_status</th>\n",
       "    </tr>\n",
       "  </thead>\n",
       "  <tbody>\n",
       "    <tr>\n",
       "      <th>510</th>\n",
       "      <td>LP002637</td>\n",
       "      <td>Male</td>\n",
       "      <td>No</td>\n",
       "      <td>0</td>\n",
       "      <td>Not Graduate</td>\n",
       "      <td>No</td>\n",
       "      <td>3598</td>\n",
       "      <td>1287.0</td>\n",
       "      <td>100.0</td>\n",
       "      <td>360.0</td>\n",
       "      <td>1.0</td>\n",
       "      <td>Rural</td>\n",
       "      <td>N</td>\n",
       "    </tr>\n",
       "    <tr>\n",
       "      <th>143</th>\n",
       "      <td>LP001507</td>\n",
       "      <td>Male</td>\n",
       "      <td>Yes</td>\n",
       "      <td>0</td>\n",
       "      <td>Graduate</td>\n",
       "      <td>No</td>\n",
       "      <td>2698</td>\n",
       "      <td>2034.0</td>\n",
       "      <td>122.0</td>\n",
       "      <td>360.0</td>\n",
       "      <td>1.0</td>\n",
       "      <td>Semiurban</td>\n",
       "      <td>Y</td>\n",
       "    </tr>\n",
       "    <tr>\n",
       "      <th>186</th>\n",
       "      <td>LP001641</td>\n",
       "      <td>Male</td>\n",
       "      <td>Yes</td>\n",
       "      <td>1</td>\n",
       "      <td>Graduate</td>\n",
       "      <td>Yes</td>\n",
       "      <td>2178</td>\n",
       "      <td>0.0</td>\n",
       "      <td>66.0</td>\n",
       "      <td>300.0</td>\n",
       "      <td>0.0</td>\n",
       "      <td>Rural</td>\n",
       "      <td>N</td>\n",
       "    </tr>\n",
       "    <tr>\n",
       "      <th>414</th>\n",
       "      <td>LP002335</td>\n",
       "      <td>Female</td>\n",
       "      <td>Yes</td>\n",
       "      <td>0</td>\n",
       "      <td>Not Graduate</td>\n",
       "      <td>No</td>\n",
       "      <td>2149</td>\n",
       "      <td>3237.0</td>\n",
       "      <td>178.0</td>\n",
       "      <td>360.0</td>\n",
       "      <td>0.0</td>\n",
       "      <td>Semiurban</td>\n",
       "      <td>N</td>\n",
       "    </tr>\n",
       "    <tr>\n",
       "      <th>130</th>\n",
       "      <td>LP001469</td>\n",
       "      <td>Male</td>\n",
       "      <td>No</td>\n",
       "      <td>0</td>\n",
       "      <td>Graduate</td>\n",
       "      <td>Yes</td>\n",
       "      <td>20166</td>\n",
       "      <td>0.0</td>\n",
       "      <td>650.0</td>\n",
       "      <td>480.0</td>\n",
       "      <td>NaN</td>\n",
       "      <td>Urban</td>\n",
       "      <td>Y</td>\n",
       "    </tr>\n",
       "    <tr>\n",
       "      <th>478</th>\n",
       "      <td>LP002531</td>\n",
       "      <td>Male</td>\n",
       "      <td>Yes</td>\n",
       "      <td>1</td>\n",
       "      <td>Graduate</td>\n",
       "      <td>Yes</td>\n",
       "      <td>16667</td>\n",
       "      <td>2250.0</td>\n",
       "      <td>86.0</td>\n",
       "      <td>360.0</td>\n",
       "      <td>1.0</td>\n",
       "      <td>Semiurban</td>\n",
       "      <td>Y</td>\n",
       "    </tr>\n",
       "    <tr>\n",
       "      <th>347</th>\n",
       "      <td>LP002131</td>\n",
       "      <td>Male</td>\n",
       "      <td>Yes</td>\n",
       "      <td>2</td>\n",
       "      <td>Not Graduate</td>\n",
       "      <td>No</td>\n",
       "      <td>3083</td>\n",
       "      <td>2168.0</td>\n",
       "      <td>126.0</td>\n",
       "      <td>360.0</td>\n",
       "      <td>1.0</td>\n",
       "      <td>Urban</td>\n",
       "      <td>Y</td>\n",
       "    </tr>\n",
       "    <tr>\n",
       "      <th>219</th>\n",
       "      <td>LP001734</td>\n",
       "      <td>Female</td>\n",
       "      <td>Yes</td>\n",
       "      <td>2</td>\n",
       "      <td>Graduate</td>\n",
       "      <td>No</td>\n",
       "      <td>4283</td>\n",
       "      <td>2383.0</td>\n",
       "      <td>127.0</td>\n",
       "      <td>360.0</td>\n",
       "      <td>NaN</td>\n",
       "      <td>Semiurban</td>\n",
       "      <td>Y</td>\n",
       "    </tr>\n",
       "    <tr>\n",
       "      <th>41</th>\n",
       "      <td>LP001120</td>\n",
       "      <td>Male</td>\n",
       "      <td>No</td>\n",
       "      <td>0</td>\n",
       "      <td>Graduate</td>\n",
       "      <td>No</td>\n",
       "      <td>1800</td>\n",
       "      <td>1213.0</td>\n",
       "      <td>47.0</td>\n",
       "      <td>360.0</td>\n",
       "      <td>1.0</td>\n",
       "      <td>Urban</td>\n",
       "      <td>Y</td>\n",
       "    </tr>\n",
       "    <tr>\n",
       "      <th>558</th>\n",
       "      <td>LP002798</td>\n",
       "      <td>Male</td>\n",
       "      <td>Yes</td>\n",
       "      <td>0</td>\n",
       "      <td>Graduate</td>\n",
       "      <td>No</td>\n",
       "      <td>3887</td>\n",
       "      <td>2669.0</td>\n",
       "      <td>162.0</td>\n",
       "      <td>360.0</td>\n",
       "      <td>1.0</td>\n",
       "      <td>Semiurban</td>\n",
       "      <td>Y</td>\n",
       "    </tr>\n",
       "  </tbody>\n",
       "</table>\n",
       "</div>"
      ],
      "text/plain": [
       "      loan_id  gender married dependents     education self_employed  \\\n",
       "510  LP002637    Male      No          0  Not Graduate            No   \n",
       "143  LP001507    Male     Yes          0      Graduate            No   \n",
       "186  LP001641    Male     Yes          1      Graduate           Yes   \n",
       "414  LP002335  Female     Yes          0  Not Graduate            No   \n",
       "130  LP001469    Male      No          0      Graduate           Yes   \n",
       "478  LP002531    Male     Yes          1      Graduate           Yes   \n",
       "347  LP002131    Male     Yes          2  Not Graduate            No   \n",
       "219  LP001734  Female     Yes          2      Graduate            No   \n",
       "41   LP001120    Male      No          0      Graduate            No   \n",
       "558  LP002798    Male     Yes          0      Graduate            No   \n",
       "\n",
       "     applicantincome  coapplicantincome  loanamount  loan_amount_term  \\\n",
       "510             3598             1287.0       100.0             360.0   \n",
       "143             2698             2034.0       122.0             360.0   \n",
       "186             2178                0.0        66.0             300.0   \n",
       "414             2149             3237.0       178.0             360.0   \n",
       "130            20166                0.0       650.0             480.0   \n",
       "478            16667             2250.0        86.0             360.0   \n",
       "347             3083             2168.0       126.0             360.0   \n",
       "219             4283             2383.0       127.0             360.0   \n",
       "41              1800             1213.0        47.0             360.0   \n",
       "558             3887             2669.0       162.0             360.0   \n",
       "\n",
       "     credit_history property_area loan_status  \n",
       "510             1.0         Rural           N  \n",
       "143             1.0     Semiurban           Y  \n",
       "186             0.0         Rural           N  \n",
       "414             0.0     Semiurban           N  \n",
       "130             NaN         Urban           Y  \n",
       "478             1.0     Semiurban           Y  \n",
       "347             1.0         Urban           Y  \n",
       "219             NaN     Semiurban           Y  \n",
       "41              1.0         Urban           Y  \n",
       "558             1.0     Semiurban           Y  "
      ]
     },
     "execution_count": 15,
     "metadata": {},
     "output_type": "execute_result"
    }
   ],
   "source": [
    "df_work.sample(10)"
   ]
  },
  {
   "cell_type": "code",
   "execution_count": 16,
   "id": "64092b42-5285-4ab2-9242-c40b903bd659",
   "metadata": {},
   "outputs": [
    {
     "name": "stdout",
     "output_type": "stream",
     "text": [
      "<class 'pandas.core.frame.DataFrame'>\n",
      "RangeIndex: 614 entries, 0 to 613\n",
      "Data columns (total 13 columns):\n",
      " #   Column             Non-Null Count  Dtype  \n",
      "---  ------             --------------  -----  \n",
      " 0   loan_id            614 non-null    object \n",
      " 1   gender             601 non-null    object \n",
      " 2   married            611 non-null    object \n",
      " 3   dependents         599 non-null    object \n",
      " 4   education          614 non-null    object \n",
      " 5   self_employed      582 non-null    object \n",
      " 6   applicantincome    614 non-null    int64  \n",
      " 7   coapplicantincome  614 non-null    float64\n",
      " 8   loanamount         592 non-null    float64\n",
      " 9   loan_amount_term   600 non-null    float64\n",
      " 10  credit_history     564 non-null    float64\n",
      " 11  property_area      614 non-null    object \n",
      " 12  loan_status        614 non-null    object \n",
      "dtypes: float64(4), int64(1), object(8)\n",
      "memory usage: 62.5+ KB\n"
     ]
    }
   ],
   "source": [
    "## Getting the information of the datatypes in the given dataframe\n",
    "df_work.info()"
   ]
  },
  {
   "cell_type": "code",
   "execution_count": 17,
   "id": "b55e6940",
   "metadata": {},
   "outputs": [
    {
     "name": "stdout",
     "output_type": "stream",
     "text": [
      "1. Loan Id\n",
      "2. Gender\n",
      "3. Married\n",
      "4. Dependents\n",
      "5. Education\n",
      "6. Self Employed\n",
      "7. Applicantincome\n",
      "8. Coapplicantincome\n",
      "9. Loanamount\n",
      "10. Loan Amount Term\n",
      "11. Credit History\n",
      "12. Property Area\n",
      "13. Loan Status\n"
     ]
    }
   ],
   "source": [
    "count = 0\n",
    "for x in list(map(lambda x:x.replace(\"_\",\" \").title(),df.columns)):\n",
    "    count += 1\n",
    "    print(f\"{count}. {x}\")"
   ]
  },
  {
   "cell_type": "code",
   "execution_count": 18,
   "id": "0b95f70b",
   "metadata": {},
   "outputs": [],
   "source": [
    "## Dropping loan_id\n",
    "df_work.drop('loan_id',axis=1,inplace=True)"
   ]
  },
  {
   "cell_type": "code",
   "execution_count": 19,
   "id": "a016fc22-3219-4548-a561-1e4035329604",
   "metadata": {},
   "outputs": [
    {
     "data": {
      "text/plain": [
       "gender               13\n",
       "married               3\n",
       "dependents           15\n",
       "education             0\n",
       "self_employed        32\n",
       "applicantincome       0\n",
       "coapplicantincome     0\n",
       "loanamount           22\n",
       "loan_amount_term     14\n",
       "credit_history       50\n",
       "property_area         0\n",
       "loan_status           0\n",
       "dtype: int64"
      ]
     },
     "execution_count": 19,
     "metadata": {},
     "output_type": "execute_result"
    }
   ],
   "source": [
    "# Checking for Null values\n",
    "df_work.isnull().sum()"
   ]
  },
  {
   "cell_type": "markdown",
   "id": "1e08b58c",
   "metadata": {},
   "source": [
    "### Data Evaluation and Data Visualization"
   ]
  },
  {
   "cell_type": "markdown",
   "id": "9a220c7f",
   "metadata": {},
   "source": [
    "#### 1. Numerical Variables"
   ]
  },
  {
   "cell_type": "code",
   "execution_count": 30,
   "id": "f35ba6fa",
   "metadata": {},
   "outputs": [
    {
     "data": {
      "text/html": [
       "<div>\n",
       "<style scoped>\n",
       "    .dataframe tbody tr th:only-of-type {\n",
       "        vertical-align: middle;\n",
       "    }\n",
       "\n",
       "    .dataframe tbody tr th {\n",
       "        vertical-align: top;\n",
       "    }\n",
       "\n",
       "    .dataframe thead th {\n",
       "        text-align: right;\n",
       "    }\n",
       "</style>\n",
       "<table border=\"1\" class=\"dataframe\">\n",
       "  <thead>\n",
       "    <tr style=\"text-align: right;\">\n",
       "      <th></th>\n",
       "      <th>applicantincome</th>\n",
       "      <th>coapplicantincome</th>\n",
       "      <th>loanamount</th>\n",
       "      <th>loan_amount_term</th>\n",
       "      <th>credit_history</th>\n",
       "    </tr>\n",
       "  </thead>\n",
       "  <tbody>\n",
       "    <tr>\n",
       "      <th>count</th>\n",
       "      <td>614.000000</td>\n",
       "      <td>614.000000</td>\n",
       "      <td>592.000000</td>\n",
       "      <td>600.00000</td>\n",
       "      <td>564.000000</td>\n",
       "    </tr>\n",
       "    <tr>\n",
       "      <th>mean</th>\n",
       "      <td>5403.459283</td>\n",
       "      <td>1621.245798</td>\n",
       "      <td>146.412162</td>\n",
       "      <td>342.00000</td>\n",
       "      <td>0.842199</td>\n",
       "    </tr>\n",
       "    <tr>\n",
       "      <th>std</th>\n",
       "      <td>6109.041673</td>\n",
       "      <td>2926.248369</td>\n",
       "      <td>85.587325</td>\n",
       "      <td>65.12041</td>\n",
       "      <td>0.364878</td>\n",
       "    </tr>\n",
       "    <tr>\n",
       "      <th>min</th>\n",
       "      <td>150.000000</td>\n",
       "      <td>0.000000</td>\n",
       "      <td>9.000000</td>\n",
       "      <td>12.00000</td>\n",
       "      <td>0.000000</td>\n",
       "    </tr>\n",
       "    <tr>\n",
       "      <th>25%</th>\n",
       "      <td>2877.500000</td>\n",
       "      <td>0.000000</td>\n",
       "      <td>100.000000</td>\n",
       "      <td>360.00000</td>\n",
       "      <td>1.000000</td>\n",
       "    </tr>\n",
       "    <tr>\n",
       "      <th>50%</th>\n",
       "      <td>3812.500000</td>\n",
       "      <td>1188.500000</td>\n",
       "      <td>128.000000</td>\n",
       "      <td>360.00000</td>\n",
       "      <td>1.000000</td>\n",
       "    </tr>\n",
       "    <tr>\n",
       "      <th>75%</th>\n",
       "      <td>5795.000000</td>\n",
       "      <td>2297.250000</td>\n",
       "      <td>168.000000</td>\n",
       "      <td>360.00000</td>\n",
       "      <td>1.000000</td>\n",
       "    </tr>\n",
       "    <tr>\n",
       "      <th>max</th>\n",
       "      <td>81000.000000</td>\n",
       "      <td>41667.000000</td>\n",
       "      <td>700.000000</td>\n",
       "      <td>480.00000</td>\n",
       "      <td>1.000000</td>\n",
       "    </tr>\n",
       "  </tbody>\n",
       "</table>\n",
       "</div>"
      ],
      "text/plain": [
       "       applicantincome  coapplicantincome  loanamount  loan_amount_term  \\\n",
       "count       614.000000         614.000000  592.000000         600.00000   \n",
       "mean       5403.459283        1621.245798  146.412162         342.00000   \n",
       "std        6109.041673        2926.248369   85.587325          65.12041   \n",
       "min         150.000000           0.000000    9.000000          12.00000   \n",
       "25%        2877.500000           0.000000  100.000000         360.00000   \n",
       "50%        3812.500000        1188.500000  128.000000         360.00000   \n",
       "75%        5795.000000        2297.250000  168.000000         360.00000   \n",
       "max       81000.000000       41667.000000  700.000000         480.00000   \n",
       "\n",
       "       credit_history  \n",
       "count      564.000000  \n",
       "mean         0.842199  \n",
       "std          0.364878  \n",
       "min          0.000000  \n",
       "25%          1.000000  \n",
       "50%          1.000000  \n",
       "75%          1.000000  \n",
       "max          1.000000  "
      ]
     },
     "execution_count": 30,
     "metadata": {},
     "output_type": "execute_result"
    }
   ],
   "source": [
    "df_description = df.describe()\n",
    "df_description"
   ]
  },
  {
   "cell_type": "code",
   "execution_count": 57,
   "id": "61bd6f98",
   "metadata": {},
   "outputs": [
    {
     "data": {
      "image/png": "[encoded data removed]",
      "text/plain": [
       "<Figure size 1500x500 with 1 Axes>"
      ]
     },
     "metadata": {},
     "output_type": "display_data"
    }
   ],
   "source": [
    "sns.set_style(\"whitegrid\")\n",
    "plt.figure(figsize=(15, 5))\n",
    "sns.histplot(df['applicantincome'],kde=True)\n",
    "plt.show()"
   ]
  },
  {
   "cell_type": "code",
   "execution_count": 56,
   "id": "0e091522",
   "metadata": {},
   "outputs": [
    {
     "data": {
      "image/png": "[encoded data removed]",
      "text/plain": [
       "<Figure size 1500x500 with 1 Axes>"
      ]
     },
     "metadata": {},
     "output_type": "display_data"
    }
   ],
   "source": [
    "sns.set_style(\"whitegrid\")\n",
    "plt.figure(figsize=(15, 5))\n",
    "sns.histplot(df['coapplicantincome'],kde=True)\n",
    "plt.show()"
   ]
  },
  {
   "cell_type": "code",
   "execution_count": 55,
   "id": "7b250c2a",
   "metadata": {},
   "outputs": [
    {
     "data": {
      "image/png": "[encoded data removed]",
      "text/plain": [
       "<Figure size 1500x500 with 1 Axes>"
      ]
     },
     "metadata": {},
     "output_type": "display_data"
    }
   ],
   "source": [
    "sns.set_style(\"whitegrid\")\n",
    "plt.figure(figsize=(15, 5))\n",
    "sns.histplot(df['loanamount'],kde=True)\n",
    "plt.show()"
   ]
  },
  {
   "cell_type": "code",
   "execution_count": 54,
   "id": "d4fb3b66",
   "metadata": {},
   "outputs": [
    {
     "name": "stderr",
     "output_type": "stream",
     "text": [
      "C:\\Users\\vaibh\\anaconda3\\lib\\site-packages\\seaborn\\_decorators.py:36: FutureWarning: Pass the following variable as a keyword arg: x. From version 0.12, the only valid positional argument will be `data`, and passing other arguments without an explicit keyword will result in an error or misinterpretation.\n",
      "  warnings.warn(\n"
     ]
    },
    {
     "data": {
      "image/png": "[encoded data removed]",
      "text/plain": [
       "<Figure size 1500x500 with 1 Axes>"
      ]
     },
     "metadata": {},
     "output_type": "display_data"
    }
   ],
   "source": [
    "sns.set_style(\"whitegrid\")\n",
    "plt.figure(figsize=(15, 5))\n",
    "sns.countplot(df['loan_amount_term'])\n",
    "plt.show()"
   ]
  },
  {
   "cell_type": "code",
   "execution_count": 53,
   "id": "02c19bf0",
   "metadata": {},
   "outputs": [
    {
     "data": {
      "text/plain": [
       "360.0    512\n",
       "180.0     44\n",
       "480.0     15\n",
       "300.0     13\n",
       "240.0      4\n",
       "84.0       4\n",
       "120.0      3\n",
       "60.0       2\n",
       "36.0       2\n",
       "12.0       1\n",
       "Name: loan_amount_term, dtype: int64"
      ]
     },
     "execution_count": 53,
     "metadata": {},
     "output_type": "execute_result"
    }
   ],
   "source": [
    "df['loan_amount_term'].value_counts()"
   ]
  },
  {
   "cell_type": "markdown",
   "id": "4ce58590",
   "metadata": {},
   "source": [
    "#### 2. Categorical Variables"
   ]
  },
  {
   "cell_type": "code",
   "execution_count": 77,
   "id": "09211a69",
   "metadata": {},
   "outputs": [],
   "source": [
    "# Categorical Distribution \n",
    "gender_dist = df['gender'].value_counts()\n",
    "depend_dist =  df['dependents'].value_counts()\n",
    "education_dist = df['education'].value_counts()\n",
    "self_employed_dist = df['self_employed'].value_counts()\n",
    "property_area_dist = df['property_area'].value_counts()\n",
    "loan_status_dist = df['loan_status'].value_counts()"
   ]
  },
  {
   "cell_type": "code",
   "execution_count": 97,
   "id": "d900b067",
   "metadata": {},
   "outputs": [
    {
     "data": {
      "image/png": "[encoded data removed]",
      "text/plain": [
       "<Figure size 1500x800 with 3 Axes>"
      ]
     },
     "metadata": {},
     "output_type": "display_data"
    }
   ],
   "source": [
    "fig,((ax1,ax2,ax3)) = plt.subplots(1,3,figsize=(15,8))\n",
    "# plt.figure()\n",
    "ax1.pie(gender_dist.values,labels=gender_dist.index,autopct='%.2f')\n",
    "ax1.set_title(\"Gender Distribution\")\n",
    "ax2.pie(depend_dist.values,labels=depend_dist.index,autopct='%.2f')\n",
    "ax2.set_title(\"Dependents Distribution\")\n",
    "ax3.pie(education_dist.values,labels=education_dist.index,autopct='%.2f')\n",
    "ax3.set_title(\"Education Level Distribution\")\n",
    "# ax4.pie(gender_dist.values,labels=gender_dist.index,autopct='%.2f')\n",
    "\n",
    "plt.show()"
   ]
  },
  {
   "cell_type": "code",
   "execution_count": 100,
   "id": "ba0a8a62",
   "metadata": {},
   "outputs": [
    {
     "data": {
      "image/png": "[encoded data removed]",
      "text/plain": [
       "<Figure size 1500x800 with 3 Axes>"
      ]
     },
     "metadata": {},
     "output_type": "display_data"
    }
   ],
   "source": [
    "fig,((ax1,ax2,ax3)) = plt.subplots(1,3,figsize=(15,8))\n",
    "# plt.figure()\n",
    "ax1.pie(self_employed_dist.values,labels=self_employed_dist.index,autopct='%.2f')\n",
    "ax1.set_title(\"Self Employed Distribution\")\n",
    "ax2.pie(property_area_dist.values,labels=property_area_dist.index,autopct='%.2f')\n",
    "ax2.set_title(\"Property Area Values Distribution\")\n",
    "ax3.pie(loan_status_dist.values,labels=loan_status_dist.index,autopct='%.2f')\n",
    "ax3.set_title(\"Loan Status Distribution\")\n",
    "# ax4.pie(gender_dist.values,labels=gender_dist.index,autopct='%.2f')\n",
    "\n",
    "plt.show()"
   ]
  },
  {
   "cell_type": "markdown",
   "id": "b51cb8ca",
   "metadata": {},
   "source": [
    "## Data Pre-Processing"
   ]
  },
  {
   "cell_type": "markdown",
   "id": "76e43865",
   "metadata": {},
   "source": [
    "#### Converting the string type categorical values to numerical values\n",
    "<ol>\n",
    "    <li>For that we first need to target the string columns.</li>\n",
    "    <li>We will also need to know the number of categorical values in order to decide the type of encoding we need to perofrm.</li>\n",
    "    <li>Then we will be create encoders in order to transform the string data to their respective numerical values.</li>\n",
    "    <li>We can reuse the encoders to transform the future inputs into the model.</li>\n",
    "</ol>\n"
   ]
  },
  {
   "cell_type": "code",
   "execution_count": 70,
   "id": "37c3bb7d",
   "metadata": {},
   "outputs": [],
   "source": [
    "def get_cateogorical_strings(df:pd.DataFrame):\n",
    "    dict_cats = {}\n",
    "    for x in df.columns:\n",
    "        if df[x].dtypes == \"object\":\n",
    "            dict_cats[x] = df[x].nunique()\n",
    "    return dict_cats"
   ]
  },
  {
   "cell_type": "code",
   "execution_count": 71,
   "id": "802ac780",
   "metadata": {},
   "outputs": [],
   "source": [
    "cat_lists = get_cateogorical_strings(df_work)"
   ]
  },
  {
   "cell_type": "code",
   "execution_count": 106,
   "id": "96eb1bae",
   "metadata": {},
   "outputs": [
    {
     "data": {
      "text/plain": [
       "dict_keys(['gender', 'married', 'dependents', 'education', 'self_employed', 'property_area', 'loan_status'])"
      ]
     },
     "execution_count": 106,
     "metadata": {},
     "output_type": "execute_result"
    }
   ],
   "source": [
    "cat_lists.keys()"
   ]
  },
  {
   "cell_type": "code",
   "execution_count": 72,
   "id": "3146514b",
   "metadata": {},
   "outputs": [],
   "source": [
    "def encode_datarfame_categorical(df:pd.DataFrame,cat_dict:dict):\n",
    "    encoder_dict = {}\n",
    "    lsts = list(cat_dict.keys())\n",
    "    for x in lsts:\n",
    "        if cat_dict[x] < 10:\n",
    "            encoder = LabelEncoder()\n",
    "            df[x] = encoder.fit_transform(df[x])\n",
    "            encoder_dict[x] = encoder\n",
    "    return df,encoder_dict"
   ]
  },
  {
   "cell_type": "code",
   "execution_count": 73,
   "id": "89fe6507",
   "metadata": {},
   "outputs": [],
   "source": [
    "df_work , cat_lists = encode_datarfame_categorical(df_work,cat_lists)"
   ]
  },
  {
   "cell_type": "code",
   "execution_count": 74,
   "id": "6403269c",
   "metadata": {},
   "outputs": [
    {
     "name": "stdout",
     "output_type": "stream",
     "text": [
      "<class 'pandas.core.frame.DataFrame'>\n",
      "RangeIndex: 614 entries, 0 to 613\n",
      "Data columns (total 12 columns):\n",
      " #   Column             Non-Null Count  Dtype  \n",
      "---  ------             --------------  -----  \n",
      " 0   gender             614 non-null    int32  \n",
      " 1   married            614 non-null    int32  \n",
      " 2   dependents         614 non-null    int32  \n",
      " 3   education          614 non-null    int32  \n",
      " 4   self_employed      614 non-null    int32  \n",
      " 5   applicantincome    614 non-null    int64  \n",
      " 6   coapplicantincome  614 non-null    float64\n",
      " 7   loanamount         592 non-null    float64\n",
      " 8   loan_amount_term   600 non-null    float64\n",
      " 9   credit_history     564 non-null    float64\n",
      " 10  property_area      614 non-null    int32  \n",
      " 11  loan_status        614 non-null    int32  \n",
      "dtypes: float64(4), int32(7), int64(1)\n",
      "memory usage: 40.9 KB\n"
     ]
    }
   ],
   "source": [
    "df_work.info()"
   ]
  },
  {
   "cell_type": "markdown",
   "id": "c93ecb94",
   "metadata": {},
   "source": [
    "### Dealing with Null values"
   ]
  },
  {
   "cell_type": "markdown",
   "id": "e4651d8d",
   "metadata": {},
   "source": [
    "We will be using KNN imputer in order to fill the null values with their appropriate numerical values that are calculated by the nearest similar neighbouring values "
   ]
  },
  {
   "cell_type": "code",
   "execution_count": 89,
   "id": "e6d75557",
   "metadata": {},
   "outputs": [],
   "source": [
    "imputer = KNNImputer()\n",
    "imputer_df = imputer.fit_transform(df_work)\n",
    "imputer_df = pd.DataFrame(imputer_df,columns=df.drop('loan_id',axis=1).columns)"
   ]
  },
  {
   "cell_type": "code",
   "execution_count": 90,
   "id": "9afab8dd",
   "metadata": {},
   "outputs": [
    {
     "data": {
      "text/plain": [
       "gender               0\n",
       "married              0\n",
       "dependents           0\n",
       "education            0\n",
       "self_employed        0\n",
       "applicantincome      0\n",
       "coapplicantincome    0\n",
       "loanamount           0\n",
       "loan_amount_term     0\n",
       "credit_history       0\n",
       "property_area        0\n",
       "loan_status          0\n",
       "dtype: int64"
      ]
     },
     "execution_count": 90,
     "metadata": {},
     "output_type": "execute_result"
    }
   ],
   "source": [
    "## Checking for null values\n",
    "imputer_df.isnull().sum()"
   ]
  },
  {
   "cell_type": "markdown",
   "id": "c6e5f139",
   "metadata": {},
   "source": [
    "## Dealing for outliers"
   ]
  },
  {
   "cell_type": "code",
   "execution_count": 93,
   "id": "1607c808",
   "metadata": {},
   "outputs": [],
   "source": [
    "# first we need to target continuous values in the dataframe \n",
    "continuous_lists = [x for x in imputer_df.columns if x not in list(cat_lists.keys()) ]"
   ]
  },
  {
   "cell_type": "code",
   "execution_count": 100,
   "id": "53f2d0be",
   "metadata": {},
   "outputs": [
    {
     "data": {
      "text/html": [
       "<div>\n",
       "<style scoped>\n",
       "    .dataframe tbody tr th:only-of-type {\n",
       "        vertical-align: middle;\n",
       "    }\n",
       "\n",
       "    .dataframe tbody tr th {\n",
       "        vertical-align: top;\n",
       "    }\n",
       "\n",
       "    .dataframe thead th {\n",
       "        text-align: right;\n",
       "    }\n",
       "</style>\n",
       "<table border=\"1\" class=\"dataframe\">\n",
       "  <thead>\n",
       "    <tr style=\"text-align: right;\">\n",
       "      <th></th>\n",
       "      <th>applicantincome</th>\n",
       "      <th>coapplicantincome</th>\n",
       "      <th>loanamount</th>\n",
       "      <th>loan_amount_term</th>\n",
       "      <th>credit_history</th>\n",
       "    </tr>\n",
       "  </thead>\n",
       "  <tbody>\n",
       "    <tr>\n",
       "      <th>0</th>\n",
       "      <td>5849.0</td>\n",
       "      <td>0.0</td>\n",
       "      <td>147.8</td>\n",
       "      <td>360.0</td>\n",
       "      <td>1.0</td>\n",
       "    </tr>\n",
       "    <tr>\n",
       "      <th>1</th>\n",
       "      <td>4583.0</td>\n",
       "      <td>1508.0</td>\n",
       "      <td>128.0</td>\n",
       "      <td>360.0</td>\n",
       "      <td>1.0</td>\n",
       "    </tr>\n",
       "    <tr>\n",
       "      <th>2</th>\n",
       "      <td>3000.0</td>\n",
       "      <td>0.0</td>\n",
       "      <td>66.0</td>\n",
       "      <td>360.0</td>\n",
       "      <td>1.0</td>\n",
       "    </tr>\n",
       "    <tr>\n",
       "      <th>3</th>\n",
       "      <td>2583.0</td>\n",
       "      <td>2358.0</td>\n",
       "      <td>120.0</td>\n",
       "      <td>360.0</td>\n",
       "      <td>1.0</td>\n",
       "    </tr>\n",
       "    <tr>\n",
       "      <th>4</th>\n",
       "      <td>6000.0</td>\n",
       "      <td>0.0</td>\n",
       "      <td>141.0</td>\n",
       "      <td>360.0</td>\n",
       "      <td>1.0</td>\n",
       "    </tr>\n",
       "    <tr>\n",
       "      <th>...</th>\n",
       "      <td>...</td>\n",
       "      <td>...</td>\n",
       "      <td>...</td>\n",
       "      <td>...</td>\n",
       "      <td>...</td>\n",
       "    </tr>\n",
       "    <tr>\n",
       "      <th>609</th>\n",
       "      <td>2900.0</td>\n",
       "      <td>0.0</td>\n",
       "      <td>71.0</td>\n",
       "      <td>360.0</td>\n",
       "      <td>1.0</td>\n",
       "    </tr>\n",
       "    <tr>\n",
       "      <th>610</th>\n",
       "      <td>4106.0</td>\n",
       "      <td>0.0</td>\n",
       "      <td>40.0</td>\n",
       "      <td>180.0</td>\n",
       "      <td>1.0</td>\n",
       "    </tr>\n",
       "    <tr>\n",
       "      <th>611</th>\n",
       "      <td>8072.0</td>\n",
       "      <td>240.0</td>\n",
       "      <td>253.0</td>\n",
       "      <td>360.0</td>\n",
       "      <td>1.0</td>\n",
       "    </tr>\n",
       "    <tr>\n",
       "      <th>612</th>\n",
       "      <td>7583.0</td>\n",
       "      <td>0.0</td>\n",
       "      <td>187.0</td>\n",
       "      <td>360.0</td>\n",
       "      <td>1.0</td>\n",
       "    </tr>\n",
       "    <tr>\n",
       "      <th>613</th>\n",
       "      <td>4583.0</td>\n",
       "      <td>0.0</td>\n",
       "      <td>133.0</td>\n",
       "      <td>360.0</td>\n",
       "      <td>0.0</td>\n",
       "    </tr>\n",
       "  </tbody>\n",
       "</table>\n",
       "<p>614 rows × 5 columns</p>\n",
       "</div>"
      ],
      "text/plain": [
       "     applicantincome  coapplicantincome  loanamount  loan_amount_term  \\\n",
       "0             5849.0                0.0       147.8             360.0   \n",
       "1             4583.0             1508.0       128.0             360.0   \n",
       "2             3000.0                0.0        66.0             360.0   \n",
       "3             2583.0             2358.0       120.0             360.0   \n",
       "4             6000.0                0.0       141.0             360.0   \n",
       "..               ...                ...         ...               ...   \n",
       "609           2900.0                0.0        71.0             360.0   \n",
       "610           4106.0                0.0        40.0             180.0   \n",
       "611           8072.0              240.0       253.0             360.0   \n",
       "612           7583.0                0.0       187.0             360.0   \n",
       "613           4583.0                0.0       133.0             360.0   \n",
       "\n",
       "     credit_history  \n",
       "0               1.0  \n",
       "1               1.0  \n",
       "2               1.0  \n",
       "3               1.0  \n",
       "4               1.0  \n",
       "..              ...  \n",
       "609             1.0  \n",
       "610             1.0  \n",
       "611             1.0  \n",
       "612             1.0  \n",
       "613             0.0  \n",
       "\n",
       "[614 rows x 5 columns]"
      ]
     },
     "execution_count": 100,
     "metadata": {},
     "output_type": "execute_result"
    }
   ],
   "source": [
    "imputer_df.loc[:,continuous_lists]"
   ]
  },
  {
   "cell_type": "code",
   "execution_count": 119,
   "id": "b74397c8",
   "metadata": {},
   "outputs": [
    {
     "data": {
      "image/png": "[encoded data removed]",
      "text/plain": [
       "<Figure size 2000x700 with 1 Axes>"
      ]
     },
     "metadata": {},
     "output_type": "display_data"
    }
   ],
   "source": [
    "plt.figure(figsize=(20,7))\n",
    "sns.boxplot(data=imputer_df.loc[:,continuous_lists])\n",
    "\n",
    "plt.show()"
   ]
  },
  {
   "cell_type": "markdown",
   "id": "4f8c1648",
   "metadata": {},
   "source": [
    "#### There are 2 main ways to remove the outliers\n",
    "<ul>\n",
    "    <li>Using Z-score</li>\n",
    "    <li>Using IQR</li>\n",
    "</ul>"
   ]
  },
  {
   "cell_type": "markdown",
   "id": "8dfd27f8",
   "metadata": {},
   "source": [
    "### Using Z-Score"
   ]
  },
  {
   "cell_type": "code",
   "execution_count": 123,
   "id": "19755cc6",
   "metadata": {},
   "outputs": [],
   "source": [
    "threshold=1.5\n",
    "df_outs = imputer_df.copy()\n",
    "main_df = imputer_df.copy()\n",
    "for col in ['applicantincome','coapplicantincome']:\n",
    "    z=np.abs(stats.zscore(df_outs[col]))\n",
    "    df_outs=df_outs[(z<threshold)]"
   ]
  },
  {
   "cell_type": "code",
   "execution_count": 124,
   "id": "c8f486c1",
   "metadata": {},
   "outputs": [
    {
     "data": {
      "image/png": "[encoded data removed]",
      "text/plain": [
       "<Figure size 2000x700 with 1 Axes>"
      ]
     },
     "metadata": {},
     "output_type": "display_data"
    }
   ],
   "source": [
    "plt.figure(figsize=(20,7))\n",
    "sns.boxplot(data=df_outs.loc[:,continuous_lists])\n",
    "plt.show()"
   ]
  },
  {
   "cell_type": "markdown",
   "id": "e9763511",
   "metadata": {},
   "source": [
    "#### Using IQR"
   ]
  },
  {
   "cell_type": "code",
   "execution_count": 125,
   "id": "47a6f3d3",
   "metadata": {},
   "outputs": [],
   "source": [
    "df_out_iqr = imputer_df.copy()\n",
    "for col in ['applicantincome','coapplicantincome']:\n",
    "    q1 = np.percentile(df_out_iqr[col],25)\n",
    "    q3 = np.percentile(df_out_iqr[col],75)\n",
    "    iqr = q3-q1\n",
    "    uqr = q3+1.5*iqr\n",
    "    lqr = q1-1.5*iqr\n",
    "    df_out_iqr = df_out_iqr.loc[(df_out_iqr[col]>=lqr) & (df_out_iqr[col]<=uqr)]\n"
   ]
  },
  {
   "cell_type": "code",
   "execution_count": 126,
   "id": "89f60ce0",
   "metadata": {},
   "outputs": [
    {
     "data": {
      "image/png": "[encoded data removed]",
      "text/plain": [
       "<Figure size 2000x700 with 1 Axes>"
      ]
     },
     "metadata": {},
     "output_type": "display_data"
    }
   ],
   "source": [
    "plt.figure(figsize=(20,7))\n",
    "sns.boxplot(data=df_out_iqr.loc[:,continuous_lists])\n",
    "plt.show()"
   ]
  },
  {
   "cell_type": "code",
   "execution_count": 127,
   "id": "e4b56eaf",
   "metadata": {},
   "outputs": [],
   "source": [
    "## We will be using the df_out_iqr"
   ]
  },
  {
   "cell_type": "markdown",
   "id": "b80b706c",
   "metadata": {},
   "source": [
    "## Balancing the Dataset"
   ]
  },
  {
   "cell_type": "code",
   "execution_count": 129,
   "id": "808bfb12",
   "metadata": {},
   "outputs": [
    {
     "data": {
      "text/plain": [
       "1.0    380\n",
       "0.0    168\n",
       "Name: loan_status, dtype: int64"
      ]
     },
     "execution_count": 129,
     "metadata": {},
     "output_type": "execute_result"
    }
   ],
   "source": [
    "df_out_iqr['loan_status'].value_counts()"
   ]
  },
  {
   "cell_type": "code",
   "execution_count": 143,
   "id": "71a4e11d",
   "metadata": {},
   "outputs": [
    {
     "data": {
      "text/plain": [
       "212"
      ]
     },
     "execution_count": 143,
     "metadata": {},
     "output_type": "execute_result"
    }
   ],
   "source": [
    "380 - 168"
   ]
  },
  {
   "cell_type": "code",
   "execution_count": 136,
   "id": "e63162f8",
   "metadata": {},
   "outputs": [],
   "source": []
  },
  {
   "cell_type": "code",
   "execution_count": 144,
   "id": "af3dc9f1",
   "metadata": {},
   "outputs": [],
   "source": [
    "# Separate majority and minority classes\n",
    "Final_loan_majority = df_out_iqr[df_out_iqr.loan_status==1]\n",
    "Final_loan_minority = df_out_iqr[df_out_iqr.loan_status==0]\n",
    "\n",
    "# Upsample minority class\n",
    "Final_loan_minority_upsampled = resample(Final_loan_minority, \n",
    "                                 replace=True,     # sample with replacement\n",
    "                                 n_samples=380,    # to match majority class\n",
    "                                 random_state=123) "
   ]
  },
  {
   "cell_type": "code",
   "execution_count": 145,
   "id": "a823821b",
   "metadata": {},
   "outputs": [
    {
     "name": "stdout",
     "output_type": "stream",
     "text": [
      "1.0    380\n",
      "0.0    380\n",
      "Name: loan_status, dtype: int64\n",
      "(760, 12)\n"
     ]
    }
   ],
   "source": [
    "loan_balanced = pd.concat([Final_loan_majority, Final_loan_minority_upsampled])\n",
    "print(loan_balanced['loan_status'].value_counts())#checking number of O's and 1's in the target variable\n",
    "print(loan_balanced.shape)#to print the number of rows and columns of the balanced dataframe"
   ]
  },
  {
   "cell_type": "code",
   "execution_count": 160,
   "id": "5078513a",
   "metadata": {},
   "outputs": [],
   "source": [
    "## Seperating features and Target Variable\n",
    "X = loan_balanced.iloc[:,:-1]\n",
    "y = loan_balanced.iloc[:,-1]"
   ]
  },
  {
   "cell_type": "code",
   "execution_count": 156,
   "id": "adc4eee8",
   "metadata": {},
   "outputs": [],
   "source": [
    "## Scaling "
   ]
  },
  {
   "cell_type": "code",
   "execution_count": 164,
   "id": "d872f920",
   "metadata": {},
   "outputs": [
    {
     "name": "stderr",
     "output_type": "stream",
     "text": [
      "C:\\Users\\vaibh\\AppData\\Local\\Temp\\ipykernel_16084\\2175129796.py:5: SettingWithCopyWarning: \n",
      "A value is trying to be set on a copy of a slice from a DataFrame.\n",
      "Try using .loc[row_indexer,col_indexer] = value instead\n",
      "\n",
      "See the caveats in the documentation: https://pandas.pydata.org/pandas-docs/stable/user_guide/indexing.html#returning-a-view-versus-a-copy\n",
      "  X[x] = norm.fit_transform(np.array(X[x]).reshape((-1,1)))\n",
      "C:\\Users\\vaibh\\AppData\\Local\\Temp\\ipykernel_16084\\2175129796.py:5: SettingWithCopyWarning: \n",
      "A value is trying to be set on a copy of a slice from a DataFrame.\n",
      "Try using .loc[row_indexer,col_indexer] = value instead\n",
      "\n",
      "See the caveats in the documentation: https://pandas.pydata.org/pandas-docs/stable/user_guide/indexing.html#returning-a-view-versus-a-copy\n",
      "  X[x] = norm.fit_transform(np.array(X[x]).reshape((-1,1)))\n",
      "C:\\Users\\vaibh\\AppData\\Local\\Temp\\ipykernel_16084\\2175129796.py:5: SettingWithCopyWarning: \n",
      "A value is trying to be set on a copy of a slice from a DataFrame.\n",
      "Try using .loc[row_indexer,col_indexer] = value instead\n",
      "\n",
      "See the caveats in the documentation: https://pandas.pydata.org/pandas-docs/stable/user_guide/indexing.html#returning-a-view-versus-a-copy\n",
      "  X[x] = norm.fit_transform(np.array(X[x]).reshape((-1,1)))\n",
      "C:\\Users\\vaibh\\AppData\\Local\\Temp\\ipykernel_16084\\2175129796.py:5: SettingWithCopyWarning: \n",
      "A value is trying to be set on a copy of a slice from a DataFrame.\n",
      "Try using .loc[row_indexer,col_indexer] = value instead\n",
      "\n",
      "See the caveats in the documentation: https://pandas.pydata.org/pandas-docs/stable/user_guide/indexing.html#returning-a-view-versus-a-copy\n",
      "  X[x] = norm.fit_transform(np.array(X[x]).reshape((-1,1)))\n"
     ]
    }
   ],
   "source": [
    "normalize_cols = ['applicantincome','coapplicantincome','loanamount','loan_amount_term']\n",
    "normalizer_dict = {}\n",
    "for x in normalize_cols:\n",
    "    norm = MinMaxScaler()\n",
    "    X[x] = norm.fit_transform(np.array(X[x]).reshape((-1,1)))\n",
    "    normalizer_dict[x] = norm\n"
   ]
  },
  {
   "cell_type": "code",
   "execution_count": 165,
   "id": "ee9f1929",
   "metadata": {},
   "outputs": [
    {
     "data": {
      "text/html": [
       "<div>\n",
       "<style scoped>\n",
       "    .dataframe tbody tr th:only-of-type {\n",
       "        vertical-align: middle;\n",
       "    }\n",
       "\n",
       "    .dataframe tbody tr th {\n",
       "        vertical-align: top;\n",
       "    }\n",
       "\n",
       "    .dataframe thead th {\n",
       "        text-align: right;\n",
       "    }\n",
       "</style>\n",
       "<table border=\"1\" class=\"dataframe\">\n",
       "  <thead>\n",
       "    <tr style=\"text-align: right;\">\n",
       "      <th></th>\n",
       "      <th>gender</th>\n",
       "      <th>married</th>\n",
       "      <th>dependents</th>\n",
       "      <th>education</th>\n",
       "      <th>self_employed</th>\n",
       "      <th>applicantincome</th>\n",
       "      <th>coapplicantincome</th>\n",
       "      <th>loanamount</th>\n",
       "      <th>loan_amount_term</th>\n",
       "      <th>credit_history</th>\n",
       "      <th>property_area</th>\n",
       "    </tr>\n",
       "  </thead>\n",
       "  <tbody>\n",
       "    <tr>\n",
       "      <th>0</th>\n",
       "      <td>1.0</td>\n",
       "      <td>0.0</td>\n",
       "      <td>0.0</td>\n",
       "      <td>0.0</td>\n",
       "      <td>0.0</td>\n",
       "      <td>0.570528</td>\n",
       "      <td>0.000000</td>\n",
       "      <td>0.378202</td>\n",
       "      <td>0.743590</td>\n",
       "      <td>1.0</td>\n",
       "      <td>2.0</td>\n",
       "    </tr>\n",
       "    <tr>\n",
       "      <th>2</th>\n",
       "      <td>1.0</td>\n",
       "      <td>1.0</td>\n",
       "      <td>0.0</td>\n",
       "      <td>0.0</td>\n",
       "      <td>1.0</td>\n",
       "      <td>0.285314</td>\n",
       "      <td>0.000000</td>\n",
       "      <td>0.155313</td>\n",
       "      <td>0.743590</td>\n",
       "      <td>1.0</td>\n",
       "      <td>2.0</td>\n",
       "    </tr>\n",
       "    <tr>\n",
       "      <th>3</th>\n",
       "      <td>1.0</td>\n",
       "      <td>1.0</td>\n",
       "      <td>0.0</td>\n",
       "      <td>1.0</td>\n",
       "      <td>0.0</td>\n",
       "      <td>0.243568</td>\n",
       "      <td>0.413612</td>\n",
       "      <td>0.302452</td>\n",
       "      <td>0.743590</td>\n",
       "      <td>1.0</td>\n",
       "      <td>2.0</td>\n",
       "    </tr>\n",
       "    <tr>\n",
       "      <th>4</th>\n",
       "      <td>1.0</td>\n",
       "      <td>0.0</td>\n",
       "      <td>0.0</td>\n",
       "      <td>0.0</td>\n",
       "      <td>0.0</td>\n",
       "      <td>0.585644</td>\n",
       "      <td>0.000000</td>\n",
       "      <td>0.359673</td>\n",
       "      <td>0.743590</td>\n",
       "      <td>1.0</td>\n",
       "      <td>2.0</td>\n",
       "    </tr>\n",
       "    <tr>\n",
       "      <th>5</th>\n",
       "      <td>1.0</td>\n",
       "      <td>1.0</td>\n",
       "      <td>2.0</td>\n",
       "      <td>0.0</td>\n",
       "      <td>1.0</td>\n",
       "      <td>0.527280</td>\n",
       "      <td>0.736011</td>\n",
       "      <td>0.702997</td>\n",
       "      <td>0.743590</td>\n",
       "      <td>1.0</td>\n",
       "      <td>2.0</td>\n",
       "    </tr>\n",
       "    <tr>\n",
       "      <th>...</th>\n",
       "      <td>...</td>\n",
       "      <td>...</td>\n",
       "      <td>...</td>\n",
       "      <td>...</td>\n",
       "      <td>...</td>\n",
       "      <td>...</td>\n",
       "      <td>...</td>\n",
       "      <td>...</td>\n",
       "      <td>...</td>\n",
       "      <td>...</td>\n",
       "      <td>...</td>\n",
       "    </tr>\n",
       "    <tr>\n",
       "      <th>63</th>\n",
       "      <td>1.0</td>\n",
       "      <td>1.0</td>\n",
       "      <td>1.0</td>\n",
       "      <td>0.0</td>\n",
       "      <td>0.0</td>\n",
       "      <td>0.480028</td>\n",
       "      <td>0.000000</td>\n",
       "      <td>0.330245</td>\n",
       "      <td>0.743590</td>\n",
       "      <td>0.0</td>\n",
       "      <td>0.0</td>\n",
       "    </tr>\n",
       "    <tr>\n",
       "      <th>358</th>\n",
       "      <td>1.0</td>\n",
       "      <td>1.0</td>\n",
       "      <td>0.0</td>\n",
       "      <td>1.0</td>\n",
       "      <td>0.0</td>\n",
       "      <td>0.285314</td>\n",
       "      <td>0.292229</td>\n",
       "      <td>0.247956</td>\n",
       "      <td>1.000000</td>\n",
       "      <td>0.0</td>\n",
       "      <td>2.0</td>\n",
       "    </tr>\n",
       "    <tr>\n",
       "      <th>410</th>\n",
       "      <td>0.0</td>\n",
       "      <td>0.0</td>\n",
       "      <td>1.0</td>\n",
       "      <td>1.0</td>\n",
       "      <td>1.0</td>\n",
       "      <td>0.372109</td>\n",
       "      <td>0.000000</td>\n",
       "      <td>0.144414</td>\n",
       "      <td>0.743590</td>\n",
       "      <td>1.0</td>\n",
       "      <td>1.0</td>\n",
       "    </tr>\n",
       "    <tr>\n",
       "      <th>139</th>\n",
       "      <td>1.0</td>\n",
       "      <td>1.0</td>\n",
       "      <td>2.0</td>\n",
       "      <td>1.0</td>\n",
       "      <td>0.0</td>\n",
       "      <td>0.405446</td>\n",
       "      <td>0.250833</td>\n",
       "      <td>0.326975</td>\n",
       "      <td>0.743590</td>\n",
       "      <td>1.0</td>\n",
       "      <td>0.0</td>\n",
       "    </tr>\n",
       "    <tr>\n",
       "      <th>73</th>\n",
       "      <td>1.0</td>\n",
       "      <td>1.0</td>\n",
       "      <td>3.0</td>\n",
       "      <td>1.0</td>\n",
       "      <td>0.0</td>\n",
       "      <td>0.461007</td>\n",
       "      <td>0.000000</td>\n",
       "      <td>0.234332</td>\n",
       "      <td>0.794872</td>\n",
       "      <td>0.0</td>\n",
       "      <td>1.0</td>\n",
       "    </tr>\n",
       "  </tbody>\n",
       "</table>\n",
       "<p>760 rows × 11 columns</p>\n",
       "</div>"
      ],
      "text/plain": [
       "     gender  married  dependents  education  self_employed  applicantincome  \\\n",
       "0       1.0      0.0         0.0        0.0            0.0         0.570528   \n",
       "2       1.0      1.0         0.0        0.0            1.0         0.285314   \n",
       "3       1.0      1.0         0.0        1.0            0.0         0.243568   \n",
       "4       1.0      0.0         0.0        0.0            0.0         0.585644   \n",
       "5       1.0      1.0         2.0        0.0            1.0         0.527280   \n",
       "..      ...      ...         ...        ...            ...              ...   \n",
       "63      1.0      1.0         1.0        0.0            0.0         0.480028   \n",
       "358     1.0      1.0         0.0        1.0            0.0         0.285314   \n",
       "410     0.0      0.0         1.0        1.0            1.0         0.372109   \n",
       "139     1.0      1.0         2.0        1.0            0.0         0.405446   \n",
       "73      1.0      1.0         3.0        1.0            0.0         0.461007   \n",
       "\n",
       "     coapplicantincome  loanamount  loan_amount_term  credit_history  \\\n",
       "0             0.000000    0.378202          0.743590             1.0   \n",
       "2             0.000000    0.155313          0.743590             1.0   \n",
       "3             0.413612    0.302452          0.743590             1.0   \n",
       "4             0.000000    0.359673          0.743590             1.0   \n",
       "5             0.736011    0.702997          0.743590             1.0   \n",
       "..                 ...         ...               ...             ...   \n",
       "63            0.000000    0.330245          0.743590             0.0   \n",
       "358           0.292229    0.247956          1.000000             0.0   \n",
       "410           0.000000    0.144414          0.743590             1.0   \n",
       "139           0.250833    0.326975          0.743590             1.0   \n",
       "73            0.000000    0.234332          0.794872             0.0   \n",
       "\n",
       "     property_area  \n",
       "0              2.0  \n",
       "2              2.0  \n",
       "3              2.0  \n",
       "4              2.0  \n",
       "5              2.0  \n",
       "..             ...  \n",
       "63             0.0  \n",
       "358            2.0  \n",
       "410            1.0  \n",
       "139            0.0  \n",
       "73             1.0  \n",
       "\n",
       "[760 rows x 11 columns]"
      ]
     },
     "execution_count": 165,
     "metadata": {},
     "output_type": "execute_result"
    }
   ],
   "source": [
    "X"
   ]
  },
  {
   "cell_type": "code",
   "execution_count": 166,
   "id": "1f39f48c",
   "metadata": {},
   "outputs": [
    {
     "data": {
      "text/html": [
       "<div>\n",
       "<style scoped>\n",
       "    .dataframe tbody tr th:only-of-type {\n",
       "        vertical-align: middle;\n",
       "    }\n",
       "\n",
       "    .dataframe tbody tr th {\n",
       "        vertical-align: top;\n",
       "    }\n",
       "\n",
       "    .dataframe thead th {\n",
       "        text-align: right;\n",
       "    }\n",
       "</style>\n",
       "<table border=\"1\" class=\"dataframe\">\n",
       "  <thead>\n",
       "    <tr style=\"text-align: right;\">\n",
       "      <th></th>\n",
       "      <th>gender</th>\n",
       "      <th>married</th>\n",
       "      <th>dependents</th>\n",
       "      <th>education</th>\n",
       "      <th>self_employed</th>\n",
       "      <th>applicantincome</th>\n",
       "      <th>coapplicantincome</th>\n",
       "      <th>loanamount</th>\n",
       "      <th>loan_amount_term</th>\n",
       "      <th>credit_history</th>\n",
       "      <th>property_area</th>\n",
       "    </tr>\n",
       "  </thead>\n",
       "  <tbody>\n",
       "    <tr>\n",
       "      <th>count</th>\n",
       "      <td>760.000000</td>\n",
       "      <td>760.000000</td>\n",
       "      <td>760.000000</td>\n",
       "      <td>760.000000</td>\n",
       "      <td>760.000000</td>\n",
       "      <td>760.000000</td>\n",
       "      <td>760.000000</td>\n",
       "      <td>760.000000</td>\n",
       "      <td>760.000000</td>\n",
       "      <td>760.000000</td>\n",
       "      <td>760.000000</td>\n",
       "    </tr>\n",
       "    <tr>\n",
       "      <th>mean</th>\n",
       "      <td>0.821053</td>\n",
       "      <td>0.640789</td>\n",
       "      <td>0.846053</td>\n",
       "      <td>0.259211</td>\n",
       "      <td>0.211842</td>\n",
       "      <td>0.394829</td>\n",
       "      <td>0.234931</td>\n",
       "      <td>0.331631</td>\n",
       "      <td>0.706397</td>\n",
       "      <td>0.756579</td>\n",
       "      <td>1.047368</td>\n",
       "    </tr>\n",
       "    <tr>\n",
       "      <th>std</th>\n",
       "      <td>0.452868</td>\n",
       "      <td>0.488249</td>\n",
       "      <td>1.133388</td>\n",
       "      <td>0.438490</td>\n",
       "      <td>0.519569</td>\n",
       "      <td>0.187277</td>\n",
       "      <td>0.256696</td>\n",
       "      <td>0.145995</td>\n",
       "      <td>0.140950</td>\n",
       "      <td>0.421502</td>\n",
       "      <td>0.805363</td>\n",
       "    </tr>\n",
       "    <tr>\n",
       "      <th>min</th>\n",
       "      <td>0.000000</td>\n",
       "      <td>0.000000</td>\n",
       "      <td>0.000000</td>\n",
       "      <td>0.000000</td>\n",
       "      <td>0.000000</td>\n",
       "      <td>0.000000</td>\n",
       "      <td>0.000000</td>\n",
       "      <td>0.000000</td>\n",
       "      <td>0.000000</td>\n",
       "      <td>0.000000</td>\n",
       "      <td>0.000000</td>\n",
       "    </tr>\n",
       "    <tr>\n",
       "      <th>25%</th>\n",
       "      <td>1.000000</td>\n",
       "      <td>0.000000</td>\n",
       "      <td>0.000000</td>\n",
       "      <td>0.000000</td>\n",
       "      <td>0.000000</td>\n",
       "      <td>0.261988</td>\n",
       "      <td>0.000000</td>\n",
       "      <td>0.242507</td>\n",
       "      <td>0.743590</td>\n",
       "      <td>0.800000</td>\n",
       "      <td>0.000000</td>\n",
       "    </tr>\n",
       "    <tr>\n",
       "      <th>50%</th>\n",
       "      <td>1.000000</td>\n",
       "      <td>1.000000</td>\n",
       "      <td>0.000000</td>\n",
       "      <td>0.000000</td>\n",
       "      <td>0.000000</td>\n",
       "      <td>0.345380</td>\n",
       "      <td>0.222768</td>\n",
       "      <td>0.313351</td>\n",
       "      <td>0.743590</td>\n",
       "      <td>1.000000</td>\n",
       "      <td>1.000000</td>\n",
       "    </tr>\n",
       "    <tr>\n",
       "      <th>75%</th>\n",
       "      <td>1.000000</td>\n",
       "      <td>1.000000</td>\n",
       "      <td>2.000000</td>\n",
       "      <td>1.000000</td>\n",
       "      <td>0.000000</td>\n",
       "      <td>0.485534</td>\n",
       "      <td>0.388221</td>\n",
       "      <td>0.405995</td>\n",
       "      <td>0.743590</td>\n",
       "      <td>1.000000</td>\n",
       "      <td>2.000000</td>\n",
       "    </tr>\n",
       "    <tr>\n",
       "      <th>max</th>\n",
       "      <td>2.000000</td>\n",
       "      <td>2.000000</td>\n",
       "      <td>4.000000</td>\n",
       "      <td>1.000000</td>\n",
       "      <td>2.000000</td>\n",
       "      <td>1.000000</td>\n",
       "      <td>1.000000</td>\n",
       "      <td>1.000000</td>\n",
       "      <td>1.000000</td>\n",
       "      <td>1.000000</td>\n",
       "      <td>2.000000</td>\n",
       "    </tr>\n",
       "  </tbody>\n",
       "</table>\n",
       "</div>"
      ],
      "text/plain": [
       "           gender     married  dependents   education  self_employed  \\\n",
       "count  760.000000  760.000000  760.000000  760.000000     760.000000   \n",
       "mean     0.821053    0.640789    0.846053    0.259211       0.211842   \n",
       "std      0.452868    0.488249    1.133388    0.438490       0.519569   \n",
       "min      0.000000    0.000000    0.000000    0.000000       0.000000   \n",
       "25%      1.000000    0.000000    0.000000    0.000000       0.000000   \n",
       "50%      1.000000    1.000000    0.000000    0.000000       0.000000   \n",
       "75%      1.000000    1.000000    2.000000    1.000000       0.000000   \n",
       "max      2.000000    2.000000    4.000000    1.000000       2.000000   \n",
       "\n",
       "       applicantincome  coapplicantincome  loanamount  loan_amount_term  \\\n",
       "count       760.000000         760.000000  760.000000        760.000000   \n",
       "mean          0.394829           0.234931    0.331631          0.706397   \n",
       "std           0.187277           0.256696    0.145995          0.140950   \n",
       "min           0.000000           0.000000    0.000000          0.000000   \n",
       "25%           0.261988           0.000000    0.242507          0.743590   \n",
       "50%           0.345380           0.222768    0.313351          0.743590   \n",
       "75%           0.485534           0.388221    0.405995          0.743590   \n",
       "max           1.000000           1.000000    1.000000          1.000000   \n",
       "\n",
       "       credit_history  property_area  \n",
       "count      760.000000     760.000000  \n",
       "mean         0.756579       1.047368  \n",
       "std          0.421502       0.805363  \n",
       "min          0.000000       0.000000  \n",
       "25%          0.800000       0.000000  \n",
       "50%          1.000000       1.000000  \n",
       "75%          1.000000       2.000000  \n",
       "max          1.000000       2.000000  "
      ]
     },
     "execution_count": 166,
     "metadata": {},
     "output_type": "execute_result"
    }
   ],
   "source": [
    "X.describe()"
   ]
  },
  {
   "cell_type": "code",
   "execution_count": 167,
   "id": "1e9bde27",
   "metadata": {},
   "outputs": [],
   "source": [
    "## Splitting the data in 70:30 for train:test\n",
    "X_train,X_test,y_train,y_test = train_test_split(X,y,test_size=0.3,random_state=23)"
   ]
  },
  {
   "cell_type": "code",
   "execution_count": 168,
   "id": "69915004",
   "metadata": {},
   "outputs": [
    {
     "data": {
      "text/html": [
       "<div>\n",
       "<style scoped>\n",
       "    .dataframe tbody tr th:only-of-type {\n",
       "        vertical-align: middle;\n",
       "    }\n",
       "\n",
       "    .dataframe tbody tr th {\n",
       "        vertical-align: top;\n",
       "    }\n",
       "\n",
       "    .dataframe thead th {\n",
       "        text-align: right;\n",
       "    }\n",
       "</style>\n",
       "<table border=\"1\" class=\"dataframe\">\n",
       "  <thead>\n",
       "    <tr style=\"text-align: right;\">\n",
       "      <th></th>\n",
       "      <th>gender</th>\n",
       "      <th>married</th>\n",
       "      <th>dependents</th>\n",
       "      <th>education</th>\n",
       "      <th>self_employed</th>\n",
       "      <th>applicantincome</th>\n",
       "      <th>coapplicantincome</th>\n",
       "      <th>loanamount</th>\n",
       "      <th>loan_amount_term</th>\n",
       "      <th>credit_history</th>\n",
       "      <th>property_area</th>\n",
       "    </tr>\n",
       "  </thead>\n",
       "  <tbody>\n",
       "    <tr>\n",
       "      <th>40</th>\n",
       "      <td>1.0</td>\n",
       "      <td>0.0</td>\n",
       "      <td>0.0</td>\n",
       "      <td>0.0</td>\n",
       "      <td>0.0</td>\n",
       "      <td>0.345380</td>\n",
       "      <td>0.000000</td>\n",
       "      <td>0.193460</td>\n",
       "      <td>0.743590</td>\n",
       "      <td>1.0</td>\n",
       "      <td>2.0</td>\n",
       "    </tr>\n",
       "    <tr>\n",
       "      <th>291</th>\n",
       "      <td>1.0</td>\n",
       "      <td>1.0</td>\n",
       "      <td>2.0</td>\n",
       "      <td>0.0</td>\n",
       "      <td>0.0</td>\n",
       "      <td>0.425468</td>\n",
       "      <td>0.000000</td>\n",
       "      <td>0.321526</td>\n",
       "      <td>0.743590</td>\n",
       "      <td>0.0</td>\n",
       "      <td>1.0</td>\n",
       "    </tr>\n",
       "    <tr>\n",
       "      <th>49</th>\n",
       "      <td>0.0</td>\n",
       "      <td>0.0</td>\n",
       "      <td>0.0</td>\n",
       "      <td>0.0</td>\n",
       "      <td>0.0</td>\n",
       "      <td>0.385424</td>\n",
       "      <td>0.399053</td>\n",
       "      <td>0.367847</td>\n",
       "      <td>0.743590</td>\n",
       "      <td>1.0</td>\n",
       "      <td>1.0</td>\n",
       "    </tr>\n",
       "    <tr>\n",
       "      <th>209</th>\n",
       "      <td>1.0</td>\n",
       "      <td>0.0</td>\n",
       "      <td>0.0</td>\n",
       "      <td>0.0</td>\n",
       "      <td>0.0</td>\n",
       "      <td>0.327160</td>\n",
       "      <td>0.000000</td>\n",
       "      <td>0.321526</td>\n",
       "      <td>0.743590</td>\n",
       "      <td>1.0</td>\n",
       "      <td>1.0</td>\n",
       "    </tr>\n",
       "    <tr>\n",
       "      <th>524</th>\n",
       "      <td>1.0</td>\n",
       "      <td>0.0</td>\n",
       "      <td>0.0</td>\n",
       "      <td>0.0</td>\n",
       "      <td>0.0</td>\n",
       "      <td>0.453499</td>\n",
       "      <td>0.366076</td>\n",
       "      <td>0.415804</td>\n",
       "      <td>0.743590</td>\n",
       "      <td>1.0</td>\n",
       "      <td>1.0</td>\n",
       "    </tr>\n",
       "    <tr>\n",
       "      <th>...</th>\n",
       "      <td>...</td>\n",
       "      <td>...</td>\n",
       "      <td>...</td>\n",
       "      <td>...</td>\n",
       "      <td>...</td>\n",
       "      <td>...</td>\n",
       "      <td>...</td>\n",
       "      <td>...</td>\n",
       "      <td>...</td>\n",
       "      <td>...</td>\n",
       "      <td>...</td>\n",
       "    </tr>\n",
       "    <tr>\n",
       "      <th>315</th>\n",
       "      <td>1.0</td>\n",
       "      <td>1.0</td>\n",
       "      <td>1.0</td>\n",
       "      <td>1.0</td>\n",
       "      <td>0.0</td>\n",
       "      <td>0.325258</td>\n",
       "      <td>0.287669</td>\n",
       "      <td>0.277929</td>\n",
       "      <td>0.358974</td>\n",
       "      <td>1.0</td>\n",
       "      <td>2.0</td>\n",
       "    </tr>\n",
       "    <tr>\n",
       "      <th>496</th>\n",
       "      <td>1.0</td>\n",
       "      <td>1.0</td>\n",
       "      <td>0.0</td>\n",
       "      <td>1.0</td>\n",
       "      <td>0.0</td>\n",
       "      <td>0.245270</td>\n",
       "      <td>0.298193</td>\n",
       "      <td>0.267030</td>\n",
       "      <td>0.743590</td>\n",
       "      <td>1.0</td>\n",
       "      <td>0.0</td>\n",
       "    </tr>\n",
       "    <tr>\n",
       "      <th>613</th>\n",
       "      <td>0.0</td>\n",
       "      <td>0.0</td>\n",
       "      <td>0.0</td>\n",
       "      <td>0.0</td>\n",
       "      <td>1.0</td>\n",
       "      <td>0.443788</td>\n",
       "      <td>0.000000</td>\n",
       "      <td>0.337875</td>\n",
       "      <td>0.743590</td>\n",
       "      <td>0.0</td>\n",
       "      <td>1.0</td>\n",
       "    </tr>\n",
       "    <tr>\n",
       "      <th>241</th>\n",
       "      <td>1.0</td>\n",
       "      <td>1.0</td>\n",
       "      <td>1.0</td>\n",
       "      <td>1.0</td>\n",
       "      <td>0.0</td>\n",
       "      <td>0.236260</td>\n",
       "      <td>0.347834</td>\n",
       "      <td>0.356948</td>\n",
       "      <td>0.358974</td>\n",
       "      <td>1.0</td>\n",
       "      <td>2.0</td>\n",
       "    </tr>\n",
       "    <tr>\n",
       "      <th>569</th>\n",
       "      <td>1.0</td>\n",
       "      <td>1.0</td>\n",
       "      <td>0.0</td>\n",
       "      <td>0.0</td>\n",
       "      <td>0.0</td>\n",
       "      <td>0.301932</td>\n",
       "      <td>0.362042</td>\n",
       "      <td>0.258856</td>\n",
       "      <td>0.743590</td>\n",
       "      <td>0.0</td>\n",
       "      <td>2.0</td>\n",
       "    </tr>\n",
       "  </tbody>\n",
       "</table>\n",
       "<p>228 rows × 11 columns</p>\n",
       "</div>"
      ],
      "text/plain": [
       "     gender  married  dependents  education  self_employed  applicantincome  \\\n",
       "40      1.0      0.0         0.0        0.0            0.0         0.345380   \n",
       "291     1.0      1.0         2.0        0.0            0.0         0.425468   \n",
       "49      0.0      0.0         0.0        0.0            0.0         0.385424   \n",
       "209     1.0      0.0         0.0        0.0            0.0         0.327160   \n",
       "524     1.0      0.0         0.0        0.0            0.0         0.453499   \n",
       "..      ...      ...         ...        ...            ...              ...   \n",
       "315     1.0      1.0         1.0        1.0            0.0         0.325258   \n",
       "496     1.0      1.0         0.0        1.0            0.0         0.245270   \n",
       "613     0.0      0.0         0.0        0.0            1.0         0.443788   \n",
       "241     1.0      1.0         1.0        1.0            0.0         0.236260   \n",
       "569     1.0      1.0         0.0        0.0            0.0         0.301932   \n",
       "\n",
       "     coapplicantincome  loanamount  loan_amount_term  credit_history  \\\n",
       "40            0.000000    0.193460          0.743590             1.0   \n",
       "291           0.000000    0.321526          0.743590             0.0   \n",
       "49            0.399053    0.367847          0.743590             1.0   \n",
       "209           0.000000    0.321526          0.743590             1.0   \n",
       "524           0.366076    0.415804          0.743590             1.0   \n",
       "..                 ...         ...               ...             ...   \n",
       "315           0.287669    0.277929          0.358974             1.0   \n",
       "496           0.298193    0.267030          0.743590             1.0   \n",
       "613           0.000000    0.337875          0.743590             0.0   \n",
       "241           0.347834    0.356948          0.358974             1.0   \n",
       "569           0.362042    0.258856          0.743590             0.0   \n",
       "\n",
       "     property_area  \n",
       "40             2.0  \n",
       "291            1.0  \n",
       "49             1.0  \n",
       "209            1.0  \n",
       "524            1.0  \n",
       "..             ...  \n",
       "315            2.0  \n",
       "496            0.0  \n",
       "613            1.0  \n",
       "241            2.0  \n",
       "569            2.0  \n",
       "\n",
       "[228 rows x 11 columns]"
      ]
     },
     "execution_count": 168,
     "metadata": {},
     "output_type": "execute_result"
    }
   ],
   "source": []
  },
  {
   "cell_type": "code",
   "execution_count": 169,
   "id": "a82d5818",
   "metadata": {},
   "outputs": [],
   "source": [
    "## Implementing number of data Classificaiton models"
   ]
  },
  {
   "cell_type": "code",
   "execution_count": 171,
   "id": "77fe685a",
   "metadata": {},
   "outputs": [
    {
     "data": {
      "text/plain": [
       "RandomForestClassifier()"
      ]
     },
     "execution_count": 171,
     "metadata": {},
     "output_type": "execute_result"
    }
   ],
   "source": [
    "\n",
    "random_classifier = RandomForestClassifier(n_estimators=100)\n",
    "random_classifier.fit(X_train,y_train)"
   ]
  },
  {
   "cell_type": "code",
   "execution_count": 192,
   "id": "d1c657f3",
   "metadata": {},
   "outputs": [],
   "source": [
    "def testing_classifier(model):\n",
    "    y_pred = model.predict(X_test)\n",
    "    print(f\"Accuracy Score {accuracy_score(y_test,y_pred)}\")\n",
    "    print(f\"Classification Report \\n {classification_report(y_test,y_pred)}\")\n",
    "#     plot_roc_curve(model, X_test, y_test)"
   ]
  },
  {
   "cell_type": "code",
   "execution_count": 193,
   "id": "5faa6ed5",
   "metadata": {},
   "outputs": [
    {
     "name": "stdout",
     "output_type": "stream",
     "text": [
      "Accuracy Score 0.8947368421052632\n",
      "Classification Report \n",
      "               precision    recall  f1-score   support\n",
      "\n",
      "         0.0       0.89      0.89      0.89       114\n",
      "         1.0       0.89      0.89      0.89       114\n",
      "\n",
      "    accuracy                           0.89       228\n",
      "   macro avg       0.89      0.89      0.89       228\n",
      "weighted avg       0.89      0.89      0.89       228\n",
      "\n"
     ]
    }
   ],
   "source": [
    "testing_classifier(random_classifier) ## Random Forest "
   ]
  },
  {
   "cell_type": "code",
   "execution_count": 191,
   "id": "cfe3375a",
   "metadata": {},
   "outputs": [
    {
     "name": "stdout",
     "output_type": "stream",
     "text": [
      "\n",
      "1 of kfold 5\n",
      "accuracy_score 0.6710526315789473\n",
      "\n",
      "2 of kfold 5\n",
      "accuracy_score 0.7236842105263158\n",
      "\n",
      "3 of kfold 5\n",
      "accuracy_score 0.7302631578947368\n",
      "\n",
      "4 of kfold 5\n",
      "accuracy_score 0.7171052631578947\n",
      "\n",
      "5 of kfold 5\n",
      "accuracy_score 0.7105263157894737\n",
      "\n",
      "Mean validation accuracy:  0.7105263157894737\n"
     ]
    }
   ],
   "source": [
    "mean_accuracy = []\n",
    "i = 1\n",
    "kf = StratifiedKFold(n_splits=5, random_state=23, shuffle=True)\n",
    "for train_index, test_index in kf.split(X, y):\n",
    "    print('\\n{} of kfold {}'.format(i, kf.n_splits))\n",
    "    xtr, xvl = X.iloc[train_index], X.iloc[test_index]\n",
    "    ytr, yvl = y.iloc[train_index], y.iloc[test_index]\n",
    " \n",
    "    model = LogisticRegression(random_state=23,max_iter=1000)\n",
    "    model.fit(xtr, ytr)\n",
    "    pred_test = model.predict(xvl)\n",
    "    score = accuracy_score(yvl, pred_test)\n",
    "    mean_accuracy.append(score)\n",
    "    print('accuracy_score', score)\n",
    "    i+=1\n",
    "\n",
    "\n",
    "print(\"\\nMean validation accuracy: \", sum(mean_accuracy)/len(mean_accuracy))\n",
    "pred_test = model.predict(X_test)\n",
    "confusion = confusion_matrix(pred_test,y_test)"
   ]
  },
  {
   "cell_type": "code",
   "execution_count": 195,
   "id": "c5903b61",
   "metadata": {},
   "outputs": [
    {
     "name": "stdout",
     "output_type": "stream",
     "text": [
      "Accuracy Score 0.7236842105263158\n",
      "Classification Report \n",
      "               precision    recall  f1-score   support\n",
      "\n",
      "         0.0       0.88      0.52      0.65       114\n",
      "         1.0       0.66      0.93      0.77       114\n",
      "\n",
      "    accuracy                           0.72       228\n",
      "   macro avg       0.77      0.72      0.71       228\n",
      "weighted avg       0.77      0.72      0.71       228\n",
      "\n"
     ]
    }
   ],
   "source": [
    "testing_classifier(model)"
   ]
  },
  {
   "cell_type": "code",
   "execution_count": 196,
   "id": "65678afd",
   "metadata": {},
   "outputs": [
    {
     "data": {
      "text/plain": [
       "GaussianNB()"
      ]
     },
     "execution_count": 196,
     "metadata": {},
     "output_type": "execute_result"
    }
   ],
   "source": [
    "\n",
    "#Create a Gaussian Classifier\n",
    "gnb = GaussianNB()\n",
    "# Train the model using the training sets\n",
    "gnb.fit(X_train, y_train)"
   ]
  },
  {
   "cell_type": "code",
   "execution_count": 197,
   "id": "303fec62",
   "metadata": {},
   "outputs": [
    {
     "name": "stdout",
     "output_type": "stream",
     "text": [
      "Accuracy Score 0.7105263157894737\n",
      "Classification Report \n",
      "               precision    recall  f1-score   support\n",
      "\n",
      "         0.0       0.93      0.46      0.61       114\n",
      "         1.0       0.64      0.96      0.77       114\n",
      "\n",
      "    accuracy                           0.71       228\n",
      "   macro avg       0.78      0.71      0.69       228\n",
      "weighted avg       0.78      0.71      0.69       228\n",
      "\n"
     ]
    }
   ],
   "source": [
    "testing_classifier(gnb)"
   ]
  },
  {
   "cell_type": "code",
   "execution_count": 199,
   "id": "04351122",
   "metadata": {},
   "outputs": [
    {
     "data": {
      "text/plain": [
       "XGBClassifier(base_score=0.5, booster='gbtree', callbacks=None,\n",
       "              colsample_bylevel=1, colsample_bynode=1, colsample_bytree=1,\n",
       "              early_stopping_rounds=None, enable_categorical=False,\n",
       "              eval_metric=None, feature_types=None, gamma=0, gpu_id=-1,\n",
       "              grow_policy='depthwise', importance_type=None,\n",
       "              interaction_constraints='', learning_rate=0.300000012,\n",
       "              max_bin=256, max_cat_threshold=64, max_cat_to_onehot=4,\n",
       "              max_delta_step=0, max_depth=6, max_leaves=0, min_child_weight=1,\n",
       "              missing=nan, monotone_constraints='()', n_estimators=100,\n",
       "              n_jobs=0, num_parallel_tree=1, predictor='auto', random_state=0, ...)"
      ]
     },
     "execution_count": 199,
     "metadata": {},
     "output_type": "execute_result"
    }
   ],
   "source": [
    "## XGBoost Classifier\n",
    "xgb = XGBClassifier()\n",
    "xgb.fit(X_train,y_train)"
   ]
  },
  {
   "cell_type": "code",
   "execution_count": 200,
   "id": "85ec7da1",
   "metadata": {},
   "outputs": [
    {
     "name": "stdout",
     "output_type": "stream",
     "text": [
      "Accuracy Score 0.868421052631579\n",
      "Classification Report \n",
      "               precision    recall  f1-score   support\n",
      "\n",
      "         0.0       0.86      0.89      0.87       114\n",
      "         1.0       0.88      0.85      0.87       114\n",
      "\n",
      "    accuracy                           0.87       228\n",
      "   macro avg       0.87      0.87      0.87       228\n",
      "weighted avg       0.87      0.87      0.87       228\n",
      "\n"
     ]
    }
   ],
   "source": [
    "testing_classifier(xgb)"
   ]
  },
  {
   "cell_type": "code",
   "execution_count": 202,
   "id": "6a7ecaab",
   "metadata": {},
   "outputs": [
    {
     "name": "stderr",
     "output_type": "stream",
     "text": [
      "C:\\Users\\vaibh\\anaconda3\\lib\\site-packages\\sklearn\\utils\\deprecation.py:87: FutureWarning: Function plot_roc_curve is deprecated; Function :func:`plot_roc_curve` is deprecated in 1.0 and will be removed in 1.2. Use one of the class methods: :meth:`sklearn.metric.RocCurveDisplay.from_predictions` or :meth:`sklearn.metric.RocCurveDisplay.from_estimator`.\n",
      "  warnings.warn(msg, category=FutureWarning)\n",
      "C:\\Users\\vaibh\\anaconda3\\lib\\site-packages\\sklearn\\utils\\deprecation.py:87: FutureWarning: Function plot_roc_curve is deprecated; Function :func:`plot_roc_curve` is deprecated in 1.0 and will be removed in 1.2. Use one of the class methods: :meth:`sklearn.metric.RocCurveDisplay.from_predictions` or :meth:`sklearn.metric.RocCurveDisplay.from_estimator`.\n",
      "  warnings.warn(msg, category=FutureWarning)\n",
      "C:\\Users\\vaibh\\anaconda3\\lib\\site-packages\\sklearn\\utils\\deprecation.py:87: FutureWarning: Function plot_roc_curve is deprecated; Function :func:`plot_roc_curve` is deprecated in 1.0 and will be removed in 1.2. Use one of the class methods: :meth:`sklearn.metric.RocCurveDisplay.from_predictions` or :meth:`sklearn.metric.RocCurveDisplay.from_estimator`.\n",
      "  warnings.warn(msg, category=FutureWarning)\n",
      "C:\\Users\\vaibh\\anaconda3\\lib\\site-packages\\sklearn\\utils\\deprecation.py:87: FutureWarning: Function plot_roc_curve is deprecated; Function :func:`plot_roc_curve` is deprecated in 1.0 and will be removed in 1.2. Use one of the class methods: :meth:`sklearn.metric.RocCurveDisplay.from_predictions` or :meth:`sklearn.metric.RocCurveDisplay.from_estimator`.\n",
      "  warnings.warn(msg, category=FutureWarning)\n"
     ]
    },
    {
     "data": {
      "text/plain": [
       "<sklearn.metrics._plot.roc_curve.RocCurveDisplay at 0x1dd65d7dc70>"
      ]
     },
     "execution_count": 202,
     "metadata": {},
     "output_type": "execute_result"
    },
    {
     "data": {
      "image/png": "[encoded data removed]",
      "text/plain": [
       "<Figure size 640x480 with 1 Axes>"
      ]
     },
     "metadata": {},
     "output_type": "display_data"
    }
   ],
   "source": [
    "disp = plot_roc_curve(random_classifier, X_test, y_test)\n",
    "plot_roc_curve(model, X_test, y_test,ax=disp.ax_)\n",
    "plot_roc_curve(gnb, X_test, y_test,ax=disp.ax_)\n",
    "plot_roc_curve(xgb, X_test, y_test,ax=disp.ax_)"
   ]
  },
  {
   "cell_type": "code",
   "execution_count": null,
   "id": "10d14cf9",
   "metadata": {},
   "outputs": [],
   "source": []
  }
 ],
 "metadata": {
  "kernelspec": {
   "display_name": "Python 3 (ipykernel)",
   "language": "python",
   "name": "python3"
  },
  "language_info": {
   "codemirror_mode": {
    "name": "ipython",
    "version": 3
   },
   "file_extension": ".py",
   "mimetype": "text/x-python",
   "name": "python",
   "nbconvert_exporter": "python",
   "pygments_lexer": "ipython3",
   "version": "3.9.13"
  }
 },
 "nbformat": 4,
 "nbformat_minor": 5
}
